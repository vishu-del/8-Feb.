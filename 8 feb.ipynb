{
 "cells": [
  {
   "cell_type": "code",
   "execution_count": null,
   "id": "3736769b-59d5-4888-a4dc-0689cbae6aba",
   "metadata": {},
   "outputs": [],
   "source": [
    "1=  \"A core idea in object-oriented programming (OOP), abstraction entails the simplification of\n",
    "complex systems by representing only the key characteristics of an object and hiding the rest. \n",
    "It enables you to concentrate on an objects function rather than its mechanism. \n",
    "Abstract classes and interfaces can be used to accomplish abstraction.\""
   ]
  },
  {
   "cell_type": "code",
   "execution_count": 22,
   "id": "d208e516-ec47-496c-8ab1-19ba616173c4",
   "metadata": {},
   "outputs": [
    {
     "name": "stdout",
     "output_type": "stream",
     "text": [
      "Circle Area: 78.5\n",
      "Square Area: 16\n"
     ]
    }
   ],
   "source": [
    "from abc import ABC, abstractmethod\n",
    "\n",
    "class Shape(ABC): \n",
    "    @abstractmethod\n",
    "    def area(self):\n",
    "        pass\n",
    "\n",
    "class Circle(Shape):\n",
    "    def __init__(self, radius):\n",
    "        self.radius = radius\n",
    "\n",
    "    def area(self):\n",
    "        return 3.14 * self.radius * self.radius\n",
    "\n",
    "class Square(Shape):\n",
    "    def __init__(self, side_length):\n",
    "        self.side_length = side_length\n",
    "\n",
    "    def area(self):\n",
    "        return self.side_length * self.side_length\n",
    "\n",
    "\n",
    "circle = Circle(5)\n",
    "print(\"Circle Area:\", circle.area())\n",
    "\n",
    "square = Square(4)\n",
    "print(\"Square Area:\", square.area())\n"
   ]
  },
  {
   "cell_type": "code",
   "execution_count": null,
   "id": "2c9b28e7-13a2-4405-b4a5-55e5c69c0219",
   "metadata": {},
   "outputs": [],
   "source": [
    "ans=2\n",
    "Abstraction is about simplifying complex systems by focusing on essential features and hiding unnecessary details. \n",
    "It deals with the \"what\" of an object, defining its interface without specifying how things are done internally. In the example above, the Shape class represents abstraction.\n",
    "\n",
    "Encapsulation, on the other hand, is about bundling the data (attributes) and methods (functions) that operate on that data into a single unit (i.e., a class). \n",
    "It restricts direct access to an object's internal state and requires interaction with the object through well-defined interface"
   ]
  },
  {
   "cell_type": "code",
   "execution_count": 23,
   "id": "925b24c2-bb4f-40c2-bb6f-8ab40daf85b1",
   "metadata": {},
   "outputs": [],
   "source": [
    "class Student:\n",
    "    def __init__(self, name, age):\n",
    "        self.name = name  # Encapsulated attribute\n",
    "        self.age = age    # Encapsulated attribute\n",
    "\n",
    "    def get_name(self):  # Encapsulated method\n",
    "        return self.name\n",
    "\n",
    "    def get_age(self):   # Encapsulated method\n",
    "        return self.age\n"
   ]
  },
  {
   "cell_type": "code",
   "execution_count": null,
   "id": "909cfe76-67b7-4fcd-8c63-54e0c4f06fee",
   "metadata": {},
   "outputs": [],
   "source": [
    "ans=3\n",
    "The abc module in Python stands for \"Abstract Base Classes.\" It provides mechanisms for defining and working with abstract classes and abstract methods. \n",
    "Abstract classes are classes that cannot be instantiated directly but serve as blueprints for other classes.\n",
    "\n",
    "The abc module is used for the following purposes:\n",
    "\n",
    "Defining Abstract Base Classes (ABCs): You can use the abc.ABC class as a base class for creating abstract classes.\n",
    "Abstract classes can contain abstract methods, which are methods without implementations.\n",
    "\n",
    "Enforcing Method Implementation: By marking methods as abstract using the @abstractmethod decorator, \n",
    "you can enforce that derived classes must provide concrete implementations for those methods. \n",
    "This helps in creating a consistent interface for subclasses."
   ]
  },
  {
   "cell_type": "code",
   "execution_count": 27,
   "id": "01556f24-fc7d-4ea8-9464-0d0252815b31",
   "metadata": {},
   "outputs": [],
   "source": [
    "from abc import ABC, abstractmethod\n",
    "\n",
    "class Shape(ABC):\n",
    "    @abstractmethod\n",
    "    def area(self):\n",
    "        pass\n",
    "\n",
    "class Circle(Shape):\n",
    "    def __init__(self, radius):\n",
    "        self.radius = radius\n",
    "\n",
    "    def area(self):\n",
    "        return 3.14 * self.radius * self.radius\n"
   ]
  },
  {
   "cell_type": "code",
   "execution_count": null,
   "id": "2c543157-4950-4480-b273-1d2c29485bf6",
   "metadata": {},
   "outputs": [],
   "source": [
    "ans 4\n",
    "Data abstraction in OOP is achieved by:\n",
    "\n",
    "Using Abstract Classes: Create an abstract class that defines a blueprint for the data structure. \n",
    "In this abstract class, you can declare abstract (unimplemented) methods that specify the interface.\n",
    "\n",
    "Inheritance: Derive concrete classes from the abstract class. \n",
    "These concrete classes must provide implementations for the abstract methods declared in the abstract class.\n",
    "\n",
    "Access Control: Use access control mechanisms like private or protected attributes to hide the internal data details within the classes,\n",
    "only allowing controlled access via method"
   ]
  },
  {
   "cell_type": "code",
   "execution_count": 28,
   "id": "ed65211b-8155-4dd2-a929-c38afc21440d",
   "metadata": {},
   "outputs": [],
   "source": [
    "from abc import ABC, abstractmethod\n",
    "\n",
    "class AbstractDatabase(ABC):\n",
    "    @abstractmethod\n",
    "    def insert(self, data):\n",
    "        pass\n",
    "\n",
    "    @abstractmethod\n",
    "    def query(self, condition):\n",
    "        pass\n",
    "\n",
    "class MySQLDatabase(AbstractDatabase):\n",
    "    def insert(self, data):\n",
    "        # Implementation for inserting data into a MySQL database\n",
    "        pass\n",
    "\n",
    "    def query(self, condition):\n",
    "        # Implementation for querying data from a MySQL database\n",
    "        pass\n"
   ]
  },
  {
   "cell_type": "code",
   "execution_count": null,
   "id": "5c14359e-46b4-47c8-8a8f-745fac8eb777",
   "metadata": {},
   "outputs": [],
   "source": []
  },
  {
   "cell_type": "code",
   "execution_count": null,
   "id": "72368807-6ebc-4d52-9428-42d264261ce4",
   "metadata": {},
   "outputs": [],
   "source": []
  },
  {
   "cell_type": "code",
   "execution_count": null,
   "id": "ed02e544-4c2e-49c8-9680-76c77b8ed3aa",
   "metadata": {},
   "outputs": [],
   "source": []
  },
  {
   "cell_type": "code",
   "execution_count": null,
   "id": "c3d94421-4e3b-44ca-88e2-8d9a93fb629b",
   "metadata": {},
   "outputs": [],
   "source": []
  },
  {
   "cell_type": "code",
   "execution_count": null,
   "id": "6d735b04-e679-4f70-a979-3c6e9211ff84",
   "metadata": {},
   "outputs": [],
   "source": []
  }
 ],
 "metadata": {
  "kernelspec": {
   "display_name": "Python 3 (ipykernel)",
   "language": "python",
   "name": "python3"
  },
  "language_info": {
   "codemirror_mode": {
    "name": "ipython",
    "version": 3
   },
   "file_extension": ".py",
   "mimetype": "text/x-python",
   "name": "python",
   "nbconvert_exporter": "python",
   "pygments_lexer": "ipython3",
   "version": "3.10.8"
  }
 },
 "nbformat": 4,
 "nbformat_minor": 5
}
